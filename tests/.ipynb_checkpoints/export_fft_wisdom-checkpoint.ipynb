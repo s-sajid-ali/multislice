{
 "cells": [
  {
   "cell_type": "code",
   "execution_count": 1,
   "metadata": {},
   "outputs": [],
   "source": [
    "import numpy as np\n",
    "import pyfftw\n",
    "import os\n",
    "from os.path import dirname as up\n",
    "from multislice import fft_utils\n",
    "import pickle,time"
   ]
  },
  {
   "cell_type": "code",
   "execution_count": 2,
   "metadata": {},
   "outputs": [],
   "source": [
    "try :\n",
    "    os.chdir(up(os.getcwd())+str('/wisdom'))\n",
    "except :\n",
    "    os.mkdir(up(os.getcwd())+str('/wisdom'))\n",
    "    os.chdir(up(os.getcwd())+str('/wisdom'))"
   ]
  },
  {
   "cell_type": "code",
   "execution_count": null,
   "metadata": {},
   "outputs": [],
   "source": [
    "for N in np.array([5000,10000,15000,25000,30000,36000,40000,45000,50000]):\n",
    "    for t in range(30):\n",
    "        a = np.random.random((N,N)) + 1j*np.random.random((N,N))\n",
    "        t0 = time.time()\n",
    "        fft_utils.FFT2(a,mode = 'PATIENT',threads=t)\n",
    "        t1 = time.time()\n",
    "        print(N,t, t1 - t0)"
   ]
  },
  {
   "cell_type": "code",
   "execution_count": null,
   "metadata": {},
   "outputs": [],
   "source": [
    "for N in np.array([5000,10000,15000,25000,30000,36000,40000,45000,50000]):\n",
    "    for t in range(30):\n",
    "        a = np.random.random((N,N)) + 1j*np.random.random((N,N))\n",
    "        t0 = time.time()\n",
    "        fft_utils.IFFT2(a,mode = 'PATIENT',threads=t)\n",
    "        t1 = time.time()\n",
    "        print(N,t,t1 - t0)"
   ]
  },
  {
   "cell_type": "code",
   "execution_count": null,
   "metadata": {},
   "outputs": [],
   "source": [
    "wisdom = pyfftw.export_wisdom()\n",
    "pickle.dump(wisdom,open('wisdom.pickle','wb'))"
   ]
  }
 ],
 "metadata": {
  "kernelspec": {
   "display_name": "Python [conda env:intelpy3]",
   "language": "python",
   "name": "conda-env-intelpy3-py"
  },
  "language_info": {
   "codemirror_mode": {
    "name": "ipython",
    "version": 3
   },
   "file_extension": ".py",
   "mimetype": "text/x-python",
   "name": "python",
   "nbconvert_exporter": "python",
   "pygments_lexer": "ipython3",
   "version": "3.6.2"
  }
 },
 "nbformat": 4,
 "nbformat_minor": 2
}
