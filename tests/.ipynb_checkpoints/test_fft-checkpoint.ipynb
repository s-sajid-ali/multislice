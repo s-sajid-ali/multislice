{
 "cells": [
  {
   "cell_type": "markdown",
   "metadata": {},
   "source": [
    "Evaluating performance of FFT2 and IFFT2 and checking for accuracy. <br><br>\n",
    "Note that the ffts from fft_utils perform the transformation in place to save memory.<br><br>\n",
    "As a rule of thumb, it's good to increase the number of threads as the size of the transform increases until one hits a limit <br><br>\n",
    "pyFFTW uses lower memory and is slightly slower.(using icc to compile fftw might fix this, haven't tried it)"
   ]
  },
  {
   "cell_type": "code",
   "execution_count": 1,
   "metadata": {},
   "outputs": [],
   "source": [
    "import numpy as np\n",
    "import matplotlib.pyplot as plt\n",
    "#from multislice import fft_utils\n",
    "import pyfftw,os\n",
    "import scipy.fftpack as sfft"
   ]
  },
  {
   "cell_type": "code",
   "execution_count": 2,
   "metadata": {},
   "outputs": [],
   "source": [
    "%load_ext memory_profiler\n",
    "%run obj_fft"
   ]
  },
  {
   "cell_type": "markdown",
   "metadata": {},
   "source": [
    "Loading libraries and the profiler to be used"
   ]
  },
  {
   "cell_type": "code",
   "execution_count": 3,
   "metadata": {},
   "outputs": [],
   "source": [
    "N = 15000 #size of transform\n",
    "t = 9 #number of threads."
   ]
  },
  {
   "cell_type": "markdown",
   "metadata": {},
   "source": [
    "Creating a test signal to perform on which we will perform 2D FFT "
   ]
  },
  {
   "cell_type": "code",
   "execution_count": 4,
   "metadata": {},
   "outputs": [
    {
     "name": "stdout",
     "output_type": "stream",
     "text": [
      "time for numpy forward\n",
      "2.25 s ± 170 ms per loop (mean ± std. dev. of 7 runs, 1 loop each)\n"
     ]
    }
   ],
   "source": [
    "a= np.random.random((N,N))+1j*np.random.random((N,N))\n",
    "print('time for numpy forward')\n",
    "%timeit np.fft.fft2(a)\n",
    "del(a)"
   ]
  },
  {
   "cell_type": "code",
   "execution_count": 5,
   "metadata": {},
   "outputs": [
    {
     "name": "stdout",
     "output_type": "stream",
     "text": [
      "time for scipy forward\n",
      "2.34 s ± 426 ms per loop (mean ± std. dev. of 7 runs, 1 loop each)\n"
     ]
    }
   ],
   "source": [
    "a = np.random.random((N,N))+1j*np.random.random((N,N))\n",
    "print('time for scipy forward')\n",
    "%timeit sfft.fft2(a,overwrite_x='True')\n",
    "del(a)"
   ]
  },
  {
   "cell_type": "code",
   "execution_count": 6,
   "metadata": {},
   "outputs": [
    {
     "name": "stdout",
     "output_type": "stream",
     "text": [
      "time for pyFFTW forward\n",
      "3.19 s ± 447 ms per loop (mean ± std. dev. of 7 runs, 1 loop each)\n"
     ]
    }
   ],
   "source": [
    "a = np.random.random((N,N))+1j*np.random.random((N,N))\n",
    "fft_obj = FFT_2d_Obj(np.shape(a),direction='FORWARD',threads=t)\n",
    "print('time for pyFFTW forward')\n",
    "%timeit fft_obj.run_fft2(a)\n",
    "del(a)"
   ]
  },
  {
   "cell_type": "code",
   "execution_count": 7,
   "metadata": {},
   "outputs": [
    {
     "name": "stdout",
     "output_type": "stream",
     "text": [
      "Memory for numpy forward\n",
      "peak memory: 10442.64 MiB, increment: 3433.73 MiB\n"
     ]
    }
   ],
   "source": [
    "a = np.random.random((N,N))+1j*np.random.random((N,N))\n",
    "print('Memory for numpy forward')\n",
    "%memit np.fft.fft2(a)\n",
    "del(a)"
   ]
  },
  {
   "cell_type": "code",
   "execution_count": 8,
   "metadata": {},
   "outputs": [
    {
     "name": "stdout",
     "output_type": "stream",
     "text": [
      "Memory for scipy forward\n",
      "peak memory: 10442.66 MiB, increment: 3433.24 MiB\n"
     ]
    }
   ],
   "source": [
    "a = np.random.random((N,N))+1j*np.random.random((N,N))\n",
    "print('Memory for scipy forward')\n",
    "%memit sfft.fft2(a,overwrite_x='True')\n",
    "del(a)"
   ]
  },
  {
   "cell_type": "code",
   "execution_count": 9,
   "metadata": {},
   "outputs": [
    {
     "name": "stdout",
     "output_type": "stream",
     "text": [
      "Memory for pyFFTW forward\n",
      "peak memory: 7009.44 MiB, increment: 0.01 MiB\n"
     ]
    }
   ],
   "source": [
    "a = np.random.random((N,N))+1j*np.random.random((N,N))\n",
    "print('Memory for pyFFTW forward')\n",
    "%memit fft_obj.run_fft2(a)\n",
    "del(a)"
   ]
  },
  {
   "cell_type": "markdown",
   "metadata": {},
   "source": [
    "The results depend on how the libraries are complied. mkl linked scipy is fast but the fftw uses less memory. Also note that the fftw used in this test wasn't installed using icc."
   ]
  },
  {
   "cell_type": "markdown",
   "metadata": {},
   "source": [
    "Creating a test signal to perform on which we will perform 2D IFFT."
   ]
  },
  {
   "cell_type": "code",
   "execution_count": 10,
   "metadata": {},
   "outputs": [
    {
     "name": "stdout",
     "output_type": "stream",
     "text": [
      "time for numpy backward\n",
      "1.22 s ± 48.1 ms per loop (mean ± std. dev. of 7 runs, 1 loop each)\n"
     ]
    }
   ],
   "source": [
    "a= np.random.random((N,N))+1j*np.random.random((N,N))\n",
    "print('time for numpy backward')\n",
    "%timeit np.fft.ifft2(a)\n",
    "del(a)"
   ]
  },
  {
   "cell_type": "code",
   "execution_count": 11,
   "metadata": {},
   "outputs": [
    {
     "name": "stdout",
     "output_type": "stream",
     "text": [
      "time for scipy backward\n",
      "1.25 s ± 41.1 ms per loop (mean ± std. dev. of 7 runs, 1 loop each)\n"
     ]
    }
   ],
   "source": [
    "a = np.random.random((N,N))+1j*np.random.random((N,N))\n",
    "print('time for scipy backward')\n",
    "%timeit sfft.ifft2(a,overwrite_x='True')\n",
    "del(a)"
   ]
  },
  {
   "cell_type": "code",
   "execution_count": 12,
   "metadata": {},
   "outputs": [
    {
     "name": "stdout",
     "output_type": "stream",
     "text": [
      "time for pyFFTW backward\n",
      "2.6 s ± 90.8 ms per loop (mean ± std. dev. of 7 runs, 1 loop each)\n"
     ]
    }
   ],
   "source": [
    "a = np.random.random((N,N))+1j*np.random.random((N,N))\n",
    "del fft_obj\n",
    "fft_obj = FFT_2d_Obj(np.shape(a),direction='BACKWARD',threads=t)\n",
    "print('time for pyFFTW backward')\n",
    "%timeit fft_obj.run_ifft2(a)\n",
    "del(a)"
   ]
  },
  {
   "cell_type": "code",
   "execution_count": 13,
   "metadata": {},
   "outputs": [
    {
     "name": "stdout",
     "output_type": "stream",
     "text": [
      "Memory for numpy forward\n",
      "peak memory: 10442.72 MiB, increment: 3433.24 MiB\n"
     ]
    }
   ],
   "source": [
    "a = np.random.random((N,N))+1j*np.random.random((N,N))\n",
    "print('Memory for numpy forward')\n",
    "%memit np.fft.ifft2(a)\n",
    "del(a)"
   ]
  },
  {
   "cell_type": "code",
   "execution_count": 14,
   "metadata": {},
   "outputs": [
    {
     "name": "stdout",
     "output_type": "stream",
     "text": [
      "Memory for scipy forward\n",
      "peak memory: 10442.72 MiB, increment: 3433.23 MiB\n"
     ]
    }
   ],
   "source": [
    "a = np.random.random((N,N))+1j*np.random.random((N,N))\n",
    "print('Memory for scipy forward')\n",
    "%memit sfft.ifft2(a,overwrite_x='True')\n",
    "del(a)"
   ]
  },
  {
   "cell_type": "code",
   "execution_count": 15,
   "metadata": {},
   "outputs": [
    {
     "name": "stdout",
     "output_type": "stream",
     "text": [
      "Memory for pyFFTW backward\n",
      "peak memory: 7009.49 MiB, increment: 0.00 MiB\n"
     ]
    }
   ],
   "source": [
    "a = np.random.random((N,N))+1j*np.random.random((N,N))\n",
    "print('Memory for pyFFTW backward')\n",
    "%memit fft_obj.run_ifft2(a)\n",
    "del(a)"
   ]
  },
  {
   "cell_type": "markdown",
   "metadata": {},
   "source": [
    "The results depend on how the libraries are complied. mkl linked scipy is fast but the fftw uses less memory. Also note that the fftw used in this test wasn't installed using icc."
   ]
  },
  {
   "cell_type": "markdown",
   "metadata": {},
   "source": [
    "Testing for accuracy of 2D FFT: "
   ]
  },
  {
   "cell_type": "code",
   "execution_count": 16,
   "metadata": {},
   "outputs": [
    {
     "data": {
      "text/plain": [
       "True"
      ]
     },
     "execution_count": 16,
     "metadata": {},
     "output_type": "execute_result"
    }
   ],
   "source": [
    "N = 5000\n",
    "a = np.random.random((N,N)) + 1j*np.random.random((N,N))\n",
    "fft_obj = FFT_2d_Obj(np.shape(a),threads=t)\n",
    "A1 = np.fft.fft2(a)\n",
    "fft_obj.run_fft2(a)\n",
    "np.allclose(A1,a)"
   ]
  },
  {
   "cell_type": "markdown",
   "metadata": {},
   "source": [
    "Testing for accuracy of 2D IFFT: "
   ]
  },
  {
   "cell_type": "code",
   "execution_count": 17,
   "metadata": {},
   "outputs": [
    {
     "data": {
      "text/plain": [
       "True"
      ]
     },
     "execution_count": 17,
     "metadata": {},
     "output_type": "execute_result"
    }
   ],
   "source": [
    "N = 5000\n",
    "a = np.random.random((N,N)) + 1j*np.random.random((N,N))\n",
    "A1 = np.fft.ifft2(a)\n",
    "fft_obj.run_ifft2(a)\n",
    "np.allclose(A1,a)"
   ]
  },
  {
   "cell_type": "code",
   "execution_count": null,
   "metadata": {},
   "outputs": [],
   "source": []
  }
 ],
 "metadata": {
  "kernelspec": {
   "display_name": "Python 3",
   "language": "python",
   "name": "python3"
  },
  "language_info": {
   "codemirror_mode": {
    "name": "ipython",
    "version": 3
   },
   "file_extension": ".py",
   "mimetype": "text/x-python",
   "name": "python",
   "nbconvert_exporter": "python",
   "pygments_lexer": "ipython3",
   "version": "3.6.5"
  }
 },
 "nbformat": 4,
 "nbformat_minor": 2
}
