{
 "cells": [
  {
   "cell_type": "code",
   "execution_count": 1,
   "metadata": {},
   "outputs": [],
   "source": [
    "import numpy as np\n",
    "import matplotlib.pyplot as plt\n",
    "import pyfftw,time\n",
    "import os,pickle\n",
    "from os.path import dirname as up"
   ]
  },
  {
   "cell_type": "code",
   "execution_count": 2,
   "metadata": {},
   "outputs": [],
   "source": [
    "%load_ext memory_profiler"
   ]
  },
  {
   "cell_type": "code",
   "execution_count": 3,
   "metadata": {},
   "outputs": [
    {
     "data": {
      "text/plain": [
       "(True, True, True)"
      ]
     },
     "execution_count": 3,
     "metadata": {},
     "output_type": "execute_result"
    }
   ],
   "source": [
    "pyfftw.import_wisdom(pickle.load(open(up(os.getcwd())+'/wisdom/wisdom.pickle','rb')))"
   ]
  },
  {
   "cell_type": "code",
   "execution_count": 4,
   "metadata": {},
   "outputs": [],
   "source": [
    "class FFT_2d_Obj(object):\n",
    "        \n",
    "    def __init__(self,A,direction='FORWARD',flag='ESTIMATE',threads = 10):\n",
    "        \n",
    "        self.pyfftw_array = pyfftw.empty_aligned((np.shape(A)),dtype='complex128', n = pyfftw.simd_alignment)\n",
    "        \n",
    "        self.fft2_ = pyfftw.FFTW(self.pyfftw_array,self.pyfftw_array, axes=(0,1), direction='FFTW_FORWARD', flags=('FFTW_'+str(flag), ), threads=threads, planning_timelimit=None)\n",
    "        \n",
    "    def __call__(self,A):\n",
    "        #np.copyto(self.pyfftw_array,A)\n",
    "        self.fft2_()\n",
    "        #np.copyto(A,self.pyfftw_array)\n",
    "        #del(self.pyfftw_array)\n",
    "        return None  "
   ]
  },
  {
   "cell_type": "code",
   "execution_count": 12,
   "metadata": {},
   "outputs": [],
   "source": [
    "N = 10000\n",
    "a = np.random.random((N,N)) + 1j*np.random.random((N,N))"
   ]
  },
  {
   "cell_type": "code",
   "execution_count": 27,
   "metadata": {},
   "outputs": [],
   "source": [
    "t = 18 #number of threads."
   ]
  },
  {
   "cell_type": "code",
   "execution_count": 28,
   "metadata": {},
   "outputs": [
    {
     "name": "stdout",
     "output_type": "stream",
     "text": [
      "0.28287363052368164\n"
     ]
    }
   ],
   "source": [
    "temp_2d_obj = FFT_2d_Obj(a,threads=t)\n",
    "\n",
    "time_start = time.time()\n",
    "temp_2d_obj(a)\n",
    "time_end = time.time()\n",
    "\n",
    "print(time_end-time_start)"
   ]
  },
  {
   "cell_type": "code",
   "execution_count": null,
   "metadata": {},
   "outputs": [],
   "source": []
  }
 ],
 "metadata": {
  "kernelspec": {
   "display_name": "Python [conda env:intelpy3]",
   "language": "python",
   "name": "conda-env-intelpy3-py"
  },
  "language_info": {
   "codemirror_mode": {
    "name": "ipython",
    "version": 3
   },
   "file_extension": ".py",
   "mimetype": "text/x-python",
   "name": "python",
   "nbconvert_exporter": "python",
   "pygments_lexer": "ipython3",
   "version": "3.6.2"
  }
 },
 "nbformat": 4,
 "nbformat_minor": 2
}
