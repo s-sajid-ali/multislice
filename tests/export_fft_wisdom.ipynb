{
 "cells": [
  {
   "cell_type": "code",
   "execution_count": 1,
   "metadata": {
    "collapsed": true
   },
   "outputs": [],
   "source": [
    "import numpy as np\n",
    "import pyfftw\n",
    "import os\n",
    "from multislice import fft_utils\n",
    "import pickle\n",
    "import time"
   ]
  },
  {
   "cell_type": "code",
   "execution_count": 2,
   "metadata": {
    "collapsed": true
   },
   "outputs": [],
   "source": [
    "os.chdir('/raid/home/sajid/multislice/multislice')"
   ]
  },
  {
   "cell_type": "code",
   "execution_count": null,
   "metadata": {},
   "outputs": [
    {
     "name": "stdout",
     "output_type": "stream",
     "text": [
      "5000 2 0.6503505706787109\n",
      "5000 4 0.7571940422058105\n",
      "5000 6 0.7689573764801025\n",
      "5000 8 0.6312451362609863\n",
      "5000 10 14.448651313781738\n",
      "10000 2 6.1086437702178955\n",
      "10000 4 4.775367259979248\n",
      "10000 6 5.2176313400268555\n",
      "10000 8 4.21689248085022\n",
      "10000 10 45.143067598342896\n",
      "15000 2 15.952805042266846\n",
      "15000 4 17.54906988143921\n",
      "15000 6 12.732898473739624\n",
      "15000 8 14.634806632995605\n",
      "15000 10 71.77010321617126\n"
     ]
    }
   ],
   "source": [
    "for N in np.array([5000,10000,15000]):\n",
    "    for t in np.array([2,4,6,8,10]):\n",
    "        a = np.random.random((N,N)) + 1j*np.random.random((N,N))\n",
    "        t0 = time.time()\n",
    "        fft_utils.FFT2(a,threads=t)\n",
    "        t1 = time.time()\n",
    "        print(N,t, t1 - t0)"
   ]
  },
  {
   "cell_type": "code",
   "execution_count": null,
   "metadata": {},
   "outputs": [
    {
     "name": "stdout",
     "output_type": "stream",
     "text": [
      "5000 2 1.4306659698486328\n",
      "5000 4 0.974635124206543\n",
      "5000 6 0.9559845924377441\n",
      "5000 8 0.5796935558319092\n",
      "5000 10 20.880840301513672\n",
      "10000 2 6.427733421325684\n",
      "10000 4 7.513678789138794\n",
      "10000 6 5.916079521179199\n",
      "10000 8 5.6145195960998535\n",
      "10000 10 45.15075707435608\n",
      "15000 2 25.46872854232788\n",
      "15000 4 19.966960191726685\n",
      "15000 6 15.219423532485962\n",
      "15000 8 14.709226846694946\n"
     ]
    }
   ],
   "source": [
    "for N in np.array([5000,10000,15000]):\n",
    "    for t in np.array([2,4,6,8,10]):\n",
    "        a = np.random.random((N,N)) + 1j*np.random.random((N,N))\n",
    "        t0 = time.time()\n",
    "        fft_utils.IFFT2(a,threads=t)\n",
    "        t1 = time.time()\n",
    "        print(N,t,t1 - t0)"
   ]
  },
  {
   "cell_type": "code",
   "execution_count": null,
   "metadata": {
    "collapsed": true
   },
   "outputs": [],
   "source": [
    "wisdom = pyfftw.export_wisdom()\n",
    "pickle.dump(wisdom,open('wisdom.pickle','wb'))"
   ]
  },
  {
   "cell_type": "code",
   "execution_count": null,
   "metadata": {},
   "outputs": [],
   "source": [
    "print(wisdom)"
   ]
  },
  {
   "cell_type": "code",
   "execution_count": null,
   "metadata": {
    "collapsed": true
   },
   "outputs": [],
   "source": []
  }
 ],
 "metadata": {
  "kernelspec": {
   "display_name": "Python [conda root]",
   "language": "python",
   "name": "conda-root-py"
  },
  "language_info": {
   "codemirror_mode": {
    "name": "ipython",
    "version": 3
   },
   "file_extension": ".py",
   "mimetype": "text/x-python",
   "name": "python",
   "nbconvert_exporter": "python",
   "pygments_lexer": "ipython3",
   "version": "3.6.3"
  }
 },
 "nbformat": 4,
 "nbformat_minor": 2
}
