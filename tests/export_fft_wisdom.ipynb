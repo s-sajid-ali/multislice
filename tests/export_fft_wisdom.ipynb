{
 "cells": [
  {
   "cell_type": "code",
   "execution_count": 1,
   "metadata": {
    "collapsed": true
   },
   "outputs": [],
   "source": [
    "import numpy as np\n",
    "import pyfftw\n",
    "import os\n",
    "from multislice import fft_utils\n",
    "import pickle"
   ]
  },
  {
   "cell_type": "code",
   "execution_count": 2,
   "metadata": {
    "collapsed": true
   },
   "outputs": [],
   "source": [
    "os.chdir('/raid/home/sajid/multislice/multislice')"
   ]
  },
  {
   "cell_type": "code",
   "execution_count": 3,
   "metadata": {},
   "outputs": [
    {
     "name": "stdout",
     "output_type": "stream",
     "text": [
      "5000 2\n",
      "5000 4\n",
      "5000 6\n",
      "5000 8\n",
      "10000 2\n",
      "10000 4\n",
      "10000 6\n",
      "10000 8\n",
      "15000 2\n",
      "15000 4\n",
      "15000 6\n",
      "15000 8\n"
     ]
    }
   ],
   "source": [
    "for N in np.array([5000,10000,15000]):\n",
    "    for t in np.array([2,4,6,8]):\n",
    "        print(N,t)\n",
    "        a = np.random.random((N,N)) + 1j*np.random.random((N,N))\n",
    "        fft_utils.FFT2(a,threads=t)"
   ]
  },
  {
   "cell_type": "code",
   "execution_count": 4,
   "metadata": {},
   "outputs": [
    {
     "name": "stdout",
     "output_type": "stream",
     "text": [
      "5000 2\n",
      "5000 4\n",
      "5000 6\n",
      "5000 8\n",
      "10000 2\n",
      "10000 4\n",
      "10000 6\n",
      "10000 8\n",
      "15000 2\n",
      "15000 4\n",
      "15000 6\n",
      "15000 8\n"
     ]
    }
   ],
   "source": [
    "for N in np.array([5000,10000,15000]):\n",
    "    for t in np.array([2,4,6,8]):\n",
    "        print(N,t)\n",
    "        a = np.random.random((N,N)) + 1j*np.random.random((N,N))\n",
    "        fft_utils.IFFT2(a,threads=t)"
   ]
  },
  {
   "cell_type": "code",
   "execution_count": null,
   "metadata": {
    "collapsed": true
   },
   "outputs": [],
   "source": [
    "wisdom = pyfftw.export_wisdom()\n",
    "pickle.dump(wisdom,open('wisdom.pickle','wb'))"
   ]
  },
  {
   "cell_type": "code",
   "execution_count": null,
   "metadata": {
    "collapsed": true
   },
   "outputs": [],
   "source": [
    "print(wisdom)"
   ]
  }
 ],
 "metadata": {
  "kernelspec": {
   "display_name": "Python 3",
   "language": "python",
   "name": "python3"
  },
  "language_info": {
   "codemirror_mode": {
    "name": "ipython",
    "version": 3
   },
   "file_extension": ".py",
   "mimetype": "text/x-python",
   "name": "python",
   "nbconvert_exporter": "python",
   "pygments_lexer": "ipython3",
   "version": "3.6.3"
  }
 },
 "nbformat": 4,
 "nbformat_minor": 2
}
