{
 "cells": [
  {
   "cell_type": "code",
   "execution_count": 1,
   "metadata": {},
   "outputs": [],
   "source": [
    "import numpy as np\n",
    "import matplotlib.pyplot as plt\n",
    "import pyfftw,time\n",
    "import os,pickle\n",
    "from os.path import dirname as up"
   ]
  },
  {
   "cell_type": "code",
   "execution_count": 2,
   "metadata": {},
   "outputs": [],
   "source": [
    "%load_ext memory_profiler"
   ]
  },
  {
   "cell_type": "code",
   "execution_count": 3,
   "metadata": {},
   "outputs": [],
   "source": [
    "%run obj_fft"
   ]
  },
  {
   "cell_type": "code",
   "execution_count": 11,
   "metadata": {},
   "outputs": [],
   "source": [
    "N = 10000 #dimension\n",
    "t = 12 #number of threads."
   ]
  },
  {
   "cell_type": "code",
   "execution_count": 12,
   "metadata": {},
   "outputs": [
    {
     "name": "stdout",
     "output_type": "stream",
     "text": [
      "1.932222604751587\n"
     ]
    }
   ],
   "source": [
    "a = np.random.random((N,N))+1j*np.random.random((N,N))\n",
    "temp_2d_obj = FFT_2d_Obj(np.shape(a),flag='PATIENT',threads=t)\n",
    "\n",
    "time_start = time.time()\n",
    "temp_2d_obj.run_ifft2(a)\n",
    "time_end = time.time()\n",
    "pickle.dump(pyfftw.export_wisdom(),open('temp_wisdom.pickle','wb'))\n",
    "\n",
    "print(time_end-time_start)"
   ]
  },
  {
   "cell_type": "code",
   "execution_count": 13,
   "metadata": {},
   "outputs": [
    {
     "name": "stdout",
     "output_type": "stream",
     "text": [
      "1.63 s ± 90.3 ms per loop (mean ± std. dev. of 7 runs, 1 loop each)\n"
     ]
    }
   ],
   "source": [
    "obj = FFT_2d_Obj(np.shape(a),threads=t)\n",
    "%timeit obj.run_ifft2(a)"
   ]
  },
  {
   "cell_type": "code",
   "execution_count": 7,
   "metadata": {},
   "outputs": [
    {
     "name": "stdout",
     "output_type": "stream",
     "text": [
      "peak memory: 4687.45 MiB, increment: 0.04 MiB\n"
     ]
    }
   ],
   "source": [
    "%memit obj.run_ifft2(a)"
   ]
  },
  {
   "cell_type": "code",
   "execution_count": 8,
   "metadata": {},
   "outputs": [
    {
     "name": "stdout",
     "output_type": "stream",
     "text": [
      "\n"
     ]
    },
    {
     "data": {
      "text/plain": [
       "Filename: /home/sajid/packages/multislice/tests/obj_fft.py\n",
       "\n",
       "Line #    Mem usage    Increment   Line Contents\n",
       "================================================\n",
       "    37   4687.8 MiB   4687.8 MiB       def run_ifft2(self,A):\n",
       "    38   4687.8 MiB      0.0 MiB           pa = self.pyfftw_array\n",
       "    39   4687.8 MiB      0.0 MiB           np.copyto(pa,A)\n",
       "    40   4687.8 MiB      0.0 MiB           self.ifft2_()\n",
       "    41   4687.8 MiB      0.0 MiB           np.copyto(A,pa)\n",
       "    42   4687.8 MiB      0.0 MiB           del(pa)\n",
       "    43   4687.8 MiB      0.0 MiB           return None"
      ]
     },
     "metadata": {},
     "output_type": "display_data"
    }
   ],
   "source": [
    "%mprun -f obj.run_ifft2 obj.run_ifft2(a)"
   ]
  },
  {
   "cell_type": "code",
   "execution_count": 9,
   "metadata": {},
   "outputs": [
    {
     "name": "stdout",
     "output_type": "stream",
     "text": [
      "705 ms ± 91.2 ms per loop (mean ± std. dev. of 7 runs, 1 loop each)\n"
     ]
    }
   ],
   "source": [
    "a = np.random.random((N,N))+1j*np.random.random((N,N))\n",
    "%timeit np.fft.ifft2(a)"
   ]
  },
  {
   "cell_type": "code",
   "execution_count": 10,
   "metadata": {},
   "outputs": [
    {
     "name": "stdout",
     "output_type": "stream",
     "text": [
      "peak memory: 6215.16 MiB, increment: 1525.96 MiB\n"
     ]
    }
   ],
   "source": [
    "%memit np.fft.ifft2(a)"
   ]
  },
  {
   "cell_type": "code",
   "execution_count": null,
   "metadata": {},
   "outputs": [],
   "source": []
  }
 ],
 "metadata": {
  "kernelspec": {
   "display_name": "Python 3",
   "language": "python",
   "name": "python3"
  },
  "language_info": {
   "codemirror_mode": {
    "name": "ipython",
    "version": 3
   },
   "file_extension": ".py",
   "mimetype": "text/x-python",
   "name": "python",
   "nbconvert_exporter": "python",
   "pygments_lexer": "ipython3",
   "version": "3.6.5"
  }
 },
 "nbformat": 4,
 "nbformat_minor": 2
}
