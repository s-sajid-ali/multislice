{
 "cells": [
  {
   "cell_type": "code",
   "execution_count": 1,
   "metadata": {},
   "outputs": [],
   "source": [
    "import numpy as np\n",
    "import matplotlib.pyplot as plt\n",
    "import pyfftw,time\n",
    "import os,pickle\n",
    "from os.path import dirname as up"
   ]
  },
  {
   "cell_type": "code",
   "execution_count": 2,
   "metadata": {},
   "outputs": [],
   "source": [
    "%load_ext memory_profiler"
   ]
  },
  {
   "cell_type": "code",
   "execution_count": 3,
   "metadata": {},
   "outputs": [],
   "source": [
    "%run obj_fft"
   ]
  },
  {
   "cell_type": "code",
   "execution_count": 4,
   "metadata": {},
   "outputs": [],
   "source": [
    "N = 40000\n",
    "a = np.random.random((N,N)) + 1j*np.random.random((N,N))"
   ]
  },
  {
   "cell_type": "code",
   "execution_count": 5,
   "metadata": {},
   "outputs": [
    {
     "name": "stdout",
     "output_type": "stream",
     "text": [
      "Variable      Type        Data/Info\n",
      "-----------------------------------\n",
      "FFT_2d_Obj    type        <class '__main__.FFT_2d_Obj'>\n",
      "IFFT_2d_Obj   type        <class '__main__.IFFT_2d_Obj'>\n",
      "N             int         40000\n",
      "a             ndarray     40000x40000: 1600000000 elems, type `complex128`, 25600000000 bytes (24414.0625 Mb)\n",
      "np            module      <module 'numpy' from '/ho<...>kages/numpy/__init__.py'>\n",
      "os            module      <module 'os' from '/home/<...>py3/lib/python3.6/os.py'>\n",
      "pickle        module      <module 'pickle' from '/h<...>lib/python3.6/pickle.py'>\n",
      "plt           module      <module 'matplotlib.pyplo<...>es/matplotlib/pyplot.py'>\n",
      "pyfftw        module      <module 'pyfftw' from '/h<...>ages/pyfftw/__init__.py'>\n",
      "time          module      <module 'time' (built-in)>\n",
      "up            function    <function dirname at 0x7f0eb373b8c8>\n"
     ]
    }
   ],
   "source": [
    "whos"
   ]
  },
  {
   "cell_type": "code",
   "execution_count": 24,
   "metadata": {},
   "outputs": [],
   "source": [
    "t = 18 #number of threads."
   ]
  },
  {
   "cell_type": "code",
   "execution_count": 21,
   "metadata": {},
   "outputs": [
    {
     "name": "stdout",
     "output_type": "stream",
     "text": [
      "28.191144227981567\n"
     ]
    }
   ],
   "source": [
    "temp_2d_obj = FFT_2d_Obj(a,threads=t)\n",
    "\n",
    "time_start = time.time()\n",
    "temp_2d_obj.run_ifft(a)\n",
    "time_end = time.time()\n",
    "pickle.dump(pyfftw.export_wisdom(),open('temp_wisdom.pickle','wb'))\n",
    "\n",
    "print(time_end-time_start)"
   ]
  },
  {
   "cell_type": "code",
   "execution_count": 22,
   "metadata": {},
   "outputs": [],
   "source": [
    "pyfftw.import_wisdom(pickle.load(open((os.getcwd())+'temp_wisdom.pickle','rb')))"
   ]
  },
  {
   "cell_type": "code",
   "execution_count": 23,
   "metadata": {},
   "outputs": [
    {
     "name": "stdout",
     "output_type": "stream",
     "text": [
      "28 s ± 264 ms per loop (mean ± std. dev. of 7 runs, 1 loop each)\n"
     ]
    }
   ],
   "source": [
    "%timeit temp_2d_obj.run_ifft(a)"
   ]
  },
  {
   "cell_type": "code",
   "execution_count": 10,
   "metadata": {},
   "outputs": [
    {
     "name": "stdout",
     "output_type": "stream",
     "text": [
      "peak memory: 48911.69 MiB, increment: 0.02 MiB\n"
     ]
    }
   ],
   "source": [
    "%memit temp_2d_obj.run_ifft(a)"
   ]
  },
  {
   "cell_type": "code",
   "execution_count": 11,
   "metadata": {},
   "outputs": [
    {
     "name": "stdout",
     "output_type": "stream",
     "text": [
      "\n"
     ]
    }
   ],
   "source": [
    "%mprun -f temp_2d_obj.run_ifft temp_2d_obj.run_ifft(a)"
   ]
  },
  {
   "cell_type": "code",
   "execution_count": null,
   "metadata": {},
   "outputs": [],
   "source": []
  }
 ],
 "metadata": {
  "kernelspec": {
   "display_name": "Python [conda env:intelpy3]",
   "language": "python",
   "name": "conda-env-intelpy3-py"
  },
  "language_info": {
   "codemirror_mode": {
    "name": "ipython",
    "version": 3
   },
   "file_extension": ".py",
   "mimetype": "text/x-python",
   "name": "python",
   "nbconvert_exporter": "python",
   "pygments_lexer": "ipython3",
   "version": "3.6.2"
  }
 },
 "nbformat": 4,
 "nbformat_minor": 2
}
